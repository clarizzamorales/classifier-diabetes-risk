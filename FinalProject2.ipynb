{
 "cells": [
  {
   "cell_type": "code",
   "execution_count": null,
   "id": "fcbcf905",
   "metadata": {},
   "outputs": [],
   "source": [
    "\"\"\"\n",
    "****************************************************************************************\n",
    "\n",
    "Project: Diabetes Prediction Using Decision Tree\n",
    "Author: Clarizza Morales\n",
    "Date: Fall 2022\n",
    "Description: \n",
    "This notebook analyzes health indicators from the BRFSS 2015 dataset to predict diabetes status \n",
    "using a decision tree classifier. It includes data cleaning, entropy calculation, model training, \n",
    "and visualization of the decision tree.\n",
    "\n",
    "****************************************************************************************\n",
    "\"\"\""
   ]
  },
  {
   "cell_type": "code",
   "execution_count": 10,
   "id": "2634aaf2",
   "metadata": {},
   "outputs": [
    {
     "name": "stdout",
     "output_type": "stream",
     "text": [
      "Index(['Diabetes_binary', 'HighBP', 'HighChol', 'CholCheck', 'BMI', 'Smoker',\n",
      "       'Stroke', 'HeartDiseaseorAttack', 'PhysActivity', 'Fruits', 'Veggies',\n",
      "       'HvyAlcoholConsump', 'AnyHealthcare', 'NoDocbcCost', 'GenHlth',\n",
      "       'MentHlth', 'PhysHlth', 'DiffWalk', 'Sex', 'Age', 'Education',\n",
      "       'Income'],\n",
      "      dtype='object')\n",
      "(253680, 22)\n",
      "(229474, 22)\n"
     ]
    }
   ],
   "source": [
    "#Import needed libraries \n",
    "import pandas as pd \n",
    "import numpy as np\n",
    "import matplotlib.pyplot as plt\n",
    "import scipy.stats\n",
    "from sklearn.tree import DecisionTreeClassifier\n",
    "from sklearn.model_selection import train_test_split\n",
    "from sklearn.metrics import accuracy_score\n",
    "from sklearn import tree\n",
    "import graphviz\n",
    "\n",
    "# Import Dataset as a Excel file and inspect\n",
    "df = pd.read_excel(\"diabetes_binary_health_indicators_BRFSS2015.xlsx\")\n",
    "print(df.columns)\n",
    "# Delete duplicated data\n",
    "print(df.shape)\n",
    "df.drop_duplicates(inplace=True)\n",
    "print(df.shape)"
   ]
  },
  {
   "cell_type": "code",
   "execution_count": 11,
   "id": "4cc50f94",
   "metadata": {},
   "outputs": [
    {
     "name": "stdout",
     "output_type": "stream",
     "text": [
      "Index(['HighBP', 'PhysActivity', 'Veggies', 'HvyAlcoholConsump'], dtype='object')\n",
      "['No Diabetes' 'Diabetes']\n"
     ]
    }
   ],
   "source": [
    "# Setup features and class\n",
    "df.loc[df[\"Diabetes_binary\"] == 0, \"Diabetes_binary\"] = 'No Diabetes'\n",
    "df.loc[df[\"Diabetes_binary\"] == 1, \"Diabetes_binary\"] = 'Diabetes'\n",
    "X = df.drop(['Diabetes_binary','HighChol','CholCheck','BMI','Smoker','Stroke','HeartDiseaseorAttack','Fruits','AnyHealthcare','NoDocbcCost','GenHlth','MentHlth','PhysHlth','DiffWalk','Sex','Age','Education','Income'], axis=1, inplace=False)\n",
    "print(X.columns)\n",
    "y = df['Diabetes_binary']\n",
    "print(y.unique())"
   ]
  },
  {
   "cell_type": "code",
   "execution_count": 12,
   "id": "a514f2f8",
   "metadata": {},
   "outputs": [
    {
     "name": "stdout",
     "output_type": "stream",
     "text": [
      "Entropy value: 0.42778439649376787\n",
      "Normalized Value: 0.42778439649376787\n",
      "Normalized entropy value: 0.428\n",
      "Average accuracy score: 0.847\n"
     ]
    }
   ],
   "source": [
    "# Compute the maximum entropy value\n",
    "k = len(y.unique())\n",
    "maxE = np.log2(k) \n",
    "p_data = y.value_counts(normalize=True)\n",
    "entropy = scipy.stats.entropy(p_data)\n",
    "normalizedE = entropy/maxE\n",
    "print(\"Entropy value:\", entropy)\n",
    "print(\"Normalized Value:\", normalizedE)\n",
    "# Train model\n",
    "avg_score = 0.0\n",
    "ntimes = 30\n",
    "for _ in range(ntimes):\n",
    "    X_train, X_test, y_train, y_test = train_test_split(X, y, test_size=0.2)\n",
    "    model = DecisionTreeClassifier(criterion='entropy')\n",
    "    model.fit(X_train,y_train)\n",
    "    predictions = model.predict(X_test)\n",
    "    avg_score += accuracy_score(y_test, predictions)\n",
    "avg_score /= ntimes\n",
    "print('Normalized entropy value: %.3f'% normalizedE)\n",
    "print('Average accuracy score: %.3f' % avg_score)"
   ]
  },
  {
   "cell_type": "code",
   "execution_count": 13,
   "id": "f2a8a09d",
   "metadata": {},
   "outputs": [
    {
     "data": {
      "text/plain": [
       "'decision_tree.pdf'"
      ]
     },
     "execution_count": 13,
     "metadata": {},
     "output_type": "execute_result"
    }
   ],
   "source": [
    "# Clear data structures for space\n",
    "del df, X, X_train, X_test, y_train, y_test\n",
    "# Generate pdf of last calculated decision tree and save file\n",
    "dot_data = tree.export_graphviz(model, out_file=None,\n",
    "                    feature_names=['HighBP', 'PhysActivity', 'Veggies', 'HvyAlcoholConsump'],\n",
    "                    class_names=sorted(y.unique()),\n",
    "                    label='all',\n",
    "                    rounded=True,\n",
    "                    filled=True)\n",
    "graph = graphviz.Source(dot_data)\n",
    "graph.render(\"decision_tree\")"
   ]
  }
 ],
 "metadata": {
  "kernelspec": {
   "display_name": "Python 3",
   "language": "python",
   "name": "python3"
  },
  "language_info": {
   "codemirror_mode": {
    "name": "ipython",
    "version": 3
   },
   "file_extension": ".py",
   "mimetype": "text/x-python",
   "name": "python",
   "nbconvert_exporter": "python",
   "pygments_lexer": "ipython3",
   "version": "3.8.8"
  }
 },
 "nbformat": 4,
 "nbformat_minor": 5
}
